{
 "cells": [
  {
   "cell_type": "code",
   "execution_count": 3,
   "id": "94ae8e25",
   "metadata": {},
   "outputs": [
    {
     "name": "stdout",
     "output_type": "stream",
     "text": [
      "Collatz Sequence, or, the 3n + 1 Problem\n",
      "Enter a starting number (greater than 0) or QUIT to exit.\n",
      "\n",
      "Enter a starting number: 3\n",
      "3,10,5,16,8,4,2,1\n"
     ]
    }
   ],
   "source": [
    "from abc import ABC, abstractmethod\n",
    "import sys\n",
    "import time\n",
    "\n",
    "class SequenceGenerator(ABC):\n",
    "    def __init__(self, start_number):\n",
    "        self.start_number = start_number\n",
    "\n",
    "    @abstractmethod\n",
    "    def generate(self):\n",
    "        pass\n",
    "\n",
    "class CollatzSequence(SequenceGenerator):\n",
    "    def __init__(self, start_number):\n",
    "        super().__init__(start_number)\n",
    "\n",
    "    def generate(self):\n",
    "        n = self.start_number\n",
    "        print(n, end='', flush=True)\n",
    "        while n != 1:\n",
    "            if n % 2 == 0:  # if it is even\n",
    "                n = n // 2\n",
    "            else:\n",
    "                n = 3 * n + 1\n",
    "\n",
    "            print(',' + str(n), end='', flush=True)\n",
    "            time.sleep(0.1)\n",
    "        print()\n",
    "\n",
    "def main():\n",
    "    print('''Collatz Sequence, or, the 3n + 1 Problem\n",
    "Enter a starting number (greater than 0) or QUIT to exit.\n",
    "''')\n",
    "    response = input(\"Enter a starting number: \")\n",
    "    if not response.isdecimal() or int(response) <= 0:\n",
    "        print(\"You must enter a number greater than 0.\")\n",
    "        sys.exit()\n",
    "\n",
    "    start_number = int(response)\n",
    "    sequence = CollatzSequence(start_number)\n",
    "    sequence.generate()\n",
    "\n",
    "if __name__ == \"__main__\":\n",
    "    main()\n"
   ]
  },
  {
   "cell_type": "code",
   "execution_count": null,
   "id": "5b32f0cf",
   "metadata": {},
   "outputs": [],
   "source": []
  }
 ],
 "metadata": {
  "kernelspec": {
   "display_name": "Python 3 (ipykernel)",
   "language": "python",
   "name": "python3"
  },
  "language_info": {
   "codemirror_mode": {
    "name": "ipython",
    "version": 3
   },
   "file_extension": ".py",
   "mimetype": "text/x-python",
   "name": "python",
   "nbconvert_exporter": "python",
   "pygments_lexer": "ipython3",
   "version": "3.11.5"
  }
 },
 "nbformat": 4,
 "nbformat_minor": 5
}
