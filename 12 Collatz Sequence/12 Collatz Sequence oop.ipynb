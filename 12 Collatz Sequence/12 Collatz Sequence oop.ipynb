{
 "cells": [
  {
   "cell_type": "code",
   "execution_count": 2,
   "id": "7e79b99e",
   "metadata": {},
   "outputs": [
    {
     "name": "stdout",
     "output_type": "stream",
     "text": [
      "Collatz Sequence, or, the 3n + 1 Problem\n",
      "By Al Sweigart al@inventwithpython.com\n",
      "\n",
      "The Collatz sequence is a sequence of numbers produced from a starting\n",
      "number n, following three rules:\n",
      "\n",
      "1) If n is even, the next number n is n / 2.\n",
      "2) If n is odd, the next number n is n * 3 + 1.\n",
      "3) If n is 1, stop. Otherwise, repeat.\n",
      "\n",
      "It is generally thought, but so far not mathematically proven, that\n",
      "every starting number eventually terminates at 1.\n",
      "\n",
      "Enter a starting number (greater than 0) or QUIT: 7\n",
      "7,22,11,34,17,52,26,13,40,20,10,5,16,8,4,2,1\n"
     ]
    }
   ],
   "source": [
    "import sys\n",
    "import time\n",
    "\n",
    "class CollatzSequence:\n",
    "    def __init__(self):\n",
    "        self.start_number = 0\n",
    "\n",
    "    def prompt_start_number(self):\n",
    "        \"\"\"Prompt the user for a starting number and validate it.\"\"\"\n",
    "        response = input(\"Enter a starting number (greater than 0) or QUIT: \")\n",
    "        if not response.isdecimal() or int(response) <= 0:\n",
    "            print(\"You must enter a number greater than 0\")\n",
    "            sys.exit()\n",
    "        self.start_number = int(response)\n",
    "\n",
    "    def generate_sequence(self):\n",
    "        \"\"\"Generate and print the Collatz sequence for the starting number.\"\"\"\n",
    "        n = self.start_number\n",
    "        print(n, end='', flush=True)\n",
    "        while n != 1:\n",
    "            if n % 2 == 0:  # if it is even\n",
    "                n = n // 2\n",
    "            else:\n",
    "                n = 3 * n + 1\n",
    "\n",
    "            print(',' + str(n), end='', flush=True)\n",
    "            time.sleep(0.1)\n",
    "        print()\n",
    "\n",
    "def main():\n",
    "    print('''Collatz Sequence, or, the 3n + 1 Problem\n",
    "By Al Sweigart al@inventwithpython.com\n",
    "\n",
    "The Collatz sequence is a sequence of numbers produced from a starting\n",
    "number n, following three rules:\n",
    "\n",
    "1) If n is even, the next number n is n / 2.\n",
    "2) If n is odd, the next number n is n * 3 + 1.\n",
    "3) If n is 1, stop. Otherwise, repeat.\n",
    "\n",
    "It is generally thought, but so far not mathematically proven, that\n",
    "every starting number eventually terminates at 1.\n",
    "''')\n",
    "\n",
    "    collatz = CollatzSequence()\n",
    "    collatz.prompt_start_number()\n",
    "    collatz.generate_sequence()\n",
    "\n",
    "if __name__ == \"__main__\": \n",
    "    main()\n"
   ]
  },
  {
   "cell_type": "code",
   "execution_count": null,
   "id": "1104e1cc",
   "metadata": {},
   "outputs": [],
   "source": []
  }
 ],
 "metadata": {
  "kernelspec": {
   "display_name": "Python 3 (ipykernel)",
   "language": "python",
   "name": "python3"
  },
  "language_info": {
   "codemirror_mode": {
    "name": "ipython",
    "version": 3
   },
   "file_extension": ".py",
   "mimetype": "text/x-python",
   "name": "python",
   "nbconvert_exporter": "python",
   "pygments_lexer": "ipython3",
   "version": "3.11.5"
  }
 },
 "nbformat": 4,
 "nbformat_minor": 5
}
