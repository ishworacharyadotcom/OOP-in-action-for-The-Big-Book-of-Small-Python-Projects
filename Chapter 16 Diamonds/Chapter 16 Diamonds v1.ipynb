{
 "cells": [
  {
   "cell_type": "code",
   "execution_count": 2,
   "id": "50c0a460",
   "metadata": {},
   "outputs": [
    {
     "name": "stdout",
     "output_type": "stream",
     "text": [
      "Diamonds, by Al Sweigart al@inventwithpython.com\n",
      "\n",
      "\n",
      "\n",
      "/\\\n",
      "\\/\n",
      "\n",
      "/\\\n",
      "\\/\n",
      "\n",
      " /\\\n",
      "/  \\\n",
      "\\  /\n",
      " \\/\n",
      "\n",
      " /\\\n",
      "//\\\\\n",
      "\\\\//\n",
      " \\/\n",
      "\n"
     ]
    }
   ],
   "source": [
    "class Shape:\n",
    "    def __init__(self, max_size):\n",
    "        self.max_size = max_size\n",
    "        self.draw_diamonds()\n",
    "\n",
    "    def draw_diamonds(self):\n",
    "        print('Diamonds, by Al Sweigart al@inventwithpython.com\\n')\n",
    "        for diamond_size in range(self.max_size):\n",
    "            self.display_outline_diamond(diamond_size)\n",
    "            print()  # Print a newline.\n",
    "            self.display_filled_diamond(diamond_size)\n",
    "            print()  # Print another newline for separation.\n",
    "\n",
    "    def display_outline_diamond(self, size):\n",
    "        # Display the top half of the diamond:\n",
    "        for i in range(size):\n",
    "            print(' ' * (size - i - 1), end='')  # Left side space.\n",
    "            print('/', end='')  # Left side of diamond.\n",
    "            print(' ' * (i * 2), end='')  # Interior of diamond.\n",
    "            print('\\\\')  # Right side of diamond.\n",
    "\n",
    "        # Display the bottom half of the diamond:\n",
    "        for i in range(size):\n",
    "            print(' ' * i, end='')  # Left side space.\n",
    "            print('\\\\', end='')  # Left side of diamond.\n",
    "            print(' ' * ((size - i - 1) * 2), end='')  # Interior of diamond.\n",
    "            print('/')  # Right side of diamond.\n",
    "\n",
    "    def display_filled_diamond(self, size):\n",
    "        # Display the top half of the diamond:\n",
    "        for i in range(size):\n",
    "            print(' ' * (size - i - 1), end='')  # Left side space.\n",
    "            print('/' * (i + 1), end='')  # Left half of diamond.\n",
    "            print('\\\\' * (i + 1))  # Right half of diamond.\n",
    "\n",
    "        # Display the bottom half of the diamond:\n",
    "        for i in range(size):\n",
    "            print(' ' * i, end='')  # Left side space.\n",
    "            print('\\\\' * (size - i), end='')  # Left side of diamond.\n",
    "            print('/' * (size - i))  # Right side of diamond.\n",
    "\n",
    "if __name__ == '__main__':\n",
    "    Shape(3)\n"
   ]
  },
  {
   "cell_type": "code",
   "execution_count": null,
   "id": "efdd2d2f",
   "metadata": {},
   "outputs": [],
   "source": []
  }
 ],
 "metadata": {
  "kernelspec": {
   "display_name": "Python 3 (ipykernel)",
   "language": "python",
   "name": "python3"
  },
  "language_info": {
   "codemirror_mode": {
    "name": "ipython",
    "version": 3
   },
   "file_extension": ".py",
   "mimetype": "text/x-python",
   "name": "python",
   "nbconvert_exporter": "python",
   "pygments_lexer": "ipython3",
   "version": "3.11.5"
  }
 },
 "nbformat": 4,
 "nbformat_minor": 5
}
