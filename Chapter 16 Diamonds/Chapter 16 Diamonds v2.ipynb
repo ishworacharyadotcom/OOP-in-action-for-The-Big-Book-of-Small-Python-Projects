{
 "cells": [
  {
   "cell_type": "code",
   "execution_count": 4,
   "id": "b487e851",
   "metadata": {},
   "outputs": [
    {
     "name": "stdout",
     "output_type": "stream",
     "text": [
      "Diamonds, by Al Sweigart al@inventwithpython.com\n",
      "\n",
      "\n",
      "/\\\n",
      "\\/\n",
      "\n",
      "/\\\n",
      "\\/\n",
      "\n",
      " /\\\n",
      "/  \\\n",
      "\\  /\n",
      " \\/\n",
      "\n",
      " /\\\n",
      "//\\\\\n",
      "\\\\//\n",
      " \\/\n",
      "\n"
     ]
    }
   ],
   "source": [
    "class Diamond:\n",
    "    def __init__(self, size):\n",
    "        self.size = size\n",
    "\n",
    "    def display_top_half(self):\n",
    "        raise NotImplementedError(\"Subclass must implement abstract method\")\n",
    "\n",
    "    def display_bottom_half(self):\n",
    "        raise NotImplementedError(\"Subclass must implement abstract method\")\n",
    "\n",
    "    def display(self):\n",
    "        self.display_top_half()\n",
    "        self.display_bottom_half()\n",
    "        print()  # Print a newline after displaying the diamond.\n",
    "\n",
    "class OutlineDiamond(Diamond):\n",
    "    def display_top_half(self):\n",
    "        for i in range(self.size):\n",
    "            print(' ' * (self.size - i - 1), end='')  # Left side space.\n",
    "            print('/', end='')  # Left side of diamond.\n",
    "            print(' ' * (i * 2), end='')  # Interior of diamond.\n",
    "            print('\\\\')  # Right side of diamond.\n",
    "\n",
    "    def display_bottom_half(self):\n",
    "        for i in range(self.size):\n",
    "            print(' ' * i, end='')  # Left side space.\n",
    "            print('\\\\', end='')  # Left side of diamond.\n",
    "            print(' ' * ((self.size - i - 1) * 2), end='')  # Interior of diamond.\n",
    "            print('/')  # Right side of diamond.\n",
    "\n",
    "class FilledDiamond(Diamond):\n",
    "    def display_top_half(self):\n",
    "        for i in range(self.size):\n",
    "            print(' ' * (self.size - i - 1), end='')  # Left side space.\n",
    "            print('/' * (i + 1), end='')  # Left half of diamond.\n",
    "            print('\\\\' * (i + 1))  # Right half of diamond.\n",
    "\n",
    "    def display_bottom_half(self):\n",
    "        for i in range(self.size):\n",
    "            print(' ' * i, end='')  # Left side space.\n",
    "            print('\\\\' * (self.size - i), end='')  # Left side of diamond.\n",
    "            print('/' * (self.size - i))  # Right side of diamond.\n",
    "\n",
    "def main():\n",
    "    print('Diamonds, by Al Sweigart al@inventwithpython.com')\n",
    "\n",
    "    # Display diamonds of sizes 0 through 2:\n",
    "    for diamondSize in range(3):\n",
    "        outlineDiamond = OutlineDiamond(diamondSize)\n",
    "        outlineDiamond.display()\n",
    "\n",
    "        filledDiamond = FilledDiamond(diamondSize)\n",
    "        filledDiamond.display()\n",
    "\n",
    "if __name__ == '__main__':\n",
    "    main()\n"
   ]
  },
  {
   "cell_type": "code",
   "execution_count": null,
   "id": "c03cc5d8",
   "metadata": {},
   "outputs": [],
   "source": []
  }
 ],
 "metadata": {
  "kernelspec": {
   "display_name": "Python 3 (ipykernel)",
   "language": "python",
   "name": "python3"
  },
  "language_info": {
   "codemirror_mode": {
    "name": "ipython",
    "version": 3
   },
   "file_extension": ".py",
   "mimetype": "text/x-python",
   "name": "python",
   "nbconvert_exporter": "python",
   "pygments_lexer": "ipython3",
   "version": "3.11.5"
  }
 },
 "nbformat": 4,
 "nbformat_minor": 5
}
